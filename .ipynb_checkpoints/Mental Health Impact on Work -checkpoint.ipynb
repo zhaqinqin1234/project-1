{
 "cells": [
  {
   "cell_type": "code",
   "execution_count": 35,
   "metadata": {},
   "outputs": [
    {
     "data": {
      "text/html": [
       "<div>\n",
       "<style scoped>\n",
       "    .dataframe tbody tr th:only-of-type {\n",
       "        vertical-align: middle;\n",
       "    }\n",
       "\n",
       "    .dataframe tbody tr th {\n",
       "        vertical-align: top;\n",
       "    }\n",
       "\n",
       "    .dataframe thead th {\n",
       "        text-align: right;\n",
       "    }\n",
       "</style>\n",
       "<table border=\"1\" class=\"dataframe\">\n",
       "  <thead>\n",
       "    <tr style=\"text-align: right;\">\n",
       "      <th></th>\n",
       "      <th>Percentage 2016</th>\n",
       "      <th>Percentage 2017</th>\n",
       "      <th>Percentage 2018</th>\n",
       "      <th>Percentage 2019</th>\n",
       "    </tr>\n",
       "  </thead>\n",
       "  <tbody>\n",
       "    <tr>\n",
       "      <th>0</th>\n",
       "      <td>NaN</td>\n",
       "      <td>NaN</td>\n",
       "      <td>NaN</td>\n",
       "      <td>NaN</td>\n",
       "    </tr>\n",
       "    <tr>\n",
       "      <th>1</th>\n",
       "      <td>NaN</td>\n",
       "      <td>NaN</td>\n",
       "      <td>NaN</td>\n",
       "      <td>NaN</td>\n",
       "    </tr>\n",
       "    <tr>\n",
       "      <th>2</th>\n",
       "      <td>NaN</td>\n",
       "      <td>NaN</td>\n",
       "      <td>NaN</td>\n",
       "      <td>NaN</td>\n",
       "    </tr>\n",
       "    <tr>\n",
       "      <th>3</th>\n",
       "      <td>1-25%</td>\n",
       "      <td>NaN</td>\n",
       "      <td>NaN</td>\n",
       "      <td>NaN</td>\n",
       "    </tr>\n",
       "    <tr>\n",
       "      <th>4</th>\n",
       "      <td>NaN</td>\n",
       "      <td>1-25%</td>\n",
       "      <td>NaN</td>\n",
       "      <td>NaN</td>\n",
       "    </tr>\n",
       "    <tr>\n",
       "      <th>...</th>\n",
       "      <td>...</td>\n",
       "      <td>...</td>\n",
       "      <td>...</td>\n",
       "      <td>...</td>\n",
       "    </tr>\n",
       "    <tr>\n",
       "      <th>1428</th>\n",
       "      <td>NaN</td>\n",
       "      <td>NaN</td>\n",
       "      <td>NaN</td>\n",
       "      <td>NaN</td>\n",
       "    </tr>\n",
       "    <tr>\n",
       "      <th>1429</th>\n",
       "      <td>NaN</td>\n",
       "      <td>NaN</td>\n",
       "      <td>NaN</td>\n",
       "      <td>NaN</td>\n",
       "    </tr>\n",
       "    <tr>\n",
       "      <th>1430</th>\n",
       "      <td>NaN</td>\n",
       "      <td>NaN</td>\n",
       "      <td>NaN</td>\n",
       "      <td>NaN</td>\n",
       "    </tr>\n",
       "    <tr>\n",
       "      <th>1431</th>\n",
       "      <td>NaN</td>\n",
       "      <td>NaN</td>\n",
       "      <td>NaN</td>\n",
       "      <td>NaN</td>\n",
       "    </tr>\n",
       "    <tr>\n",
       "      <th>1432</th>\n",
       "      <td>NaN</td>\n",
       "      <td>NaN</td>\n",
       "      <td>NaN</td>\n",
       "      <td>NaN</td>\n",
       "    </tr>\n",
       "  </tbody>\n",
       "</table>\n",
       "<p>1433 rows × 4 columns</p>\n",
       "</div>"
      ],
      "text/plain": [
       "     Percentage 2016 Percentage 2017 Percentage 2018 Percentage 2019\n",
       "0                NaN             NaN             NaN             NaN\n",
       "1                NaN             NaN             NaN             NaN\n",
       "2                NaN             NaN             NaN             NaN\n",
       "3              1-25%             NaN             NaN             NaN\n",
       "4                NaN           1-25%             NaN             NaN\n",
       "...              ...             ...             ...             ...\n",
       "1428             NaN             NaN             NaN             NaN\n",
       "1429             NaN             NaN             NaN             NaN\n",
       "1430             NaN             NaN             NaN             NaN\n",
       "1431             NaN             NaN             NaN             NaN\n",
       "1432             NaN             NaN             NaN             NaN\n",
       "\n",
       "[1433 rows x 4 columns]"
      ]
     },
     "execution_count": 35,
     "metadata": {},
     "output_type": "execute_result"
    }
   ],
   "source": [
    "import pandas as pd\n",
    "import matplotlib.pyplot as plt\n",
    "import numpy as np\n",
    "\n",
    "file16 = \"Resources/survey_2016.csv\"\n",
    "df16 = pd.read_csv(file16)\n",
    "file17 = \"Resources/survey_2017.csv\"\n",
    "df17 = pd.read_csv(file17)\n",
    "file18 = \"Resources/survey_2018.csv\"\n",
    "df18 = pd.read_csv(file18)\n",
    "file19 = \"Resources/OSMI 2019 Mental Health in Tech Survey Results - OSMI Mental Health in Tech Survey 2019.csv\"\n",
    "df19 = pd.read_csv(file19)\n",
    "rating16 = df16[\"If yes, what percentage of your work time (time performing primary or secondary job functions) is affected by a mental health issue?\"]\n",
    "rating17 = df17[\"If yes, what percentage of your work time (time performing primary or secondary job functions) is affected by a mental health issue?\"]\n",
    "rating18 = df18[\"If yes, what percentage of your work time (time performing primary or secondary job functions) is affected by a mental health issue?\"]\n",
    "rating19 = df19[\"If yes, what percentage of your work time (time performing primary or secondary job functions) is affected by a mental health issue?\"]\n",
    "rating_df = pd.DataFrame({\n",
    "    \"Percentage 2016\" : rating16,\n",
    "    \"Percentage 2017\" : rating17,\n",
    "    \"Percentage 2018\" : rating18,\n",
    "    \"Percentage 2019\" : rating19\n",
    "})\n",
    "rating_df.dropna()\n",
    "rating_df"
   ]
  },
  {
   "cell_type": "code",
   "execution_count": 36,
   "metadata": {},
   "outputs": [
    {
     "data": {
      "text/plain": [
       "Text(0, 0.5, 'Employees')"
      ]
     },
     "execution_count": 36,
     "metadata": {},
     "output_type": "execute_result"
    },
    {
     "data": {
      "image/png": "[encoded data removed]",
      "text/plain": [
       "<Figure size 432x288 with 1 Axes>"
      ]
     },
     "metadata": {
      "needs_background": "light"
     },
     "output_type": "display_data"
    }
   ],
   "source": [
    "rating16.value_counts()\n",
    "labels = [\"1-25%\", \"26-50%\", \"51-75%\", \"76-100%\"]\n",
    "counts = [92, 72, 26, 14]\n",
    "plt.bar(labels, counts, color=\"r\", alpha=0.5, align=\"center\")\n",
    "plt.title(\"Percentage of Employees Whose Worktime is Affected by an Mental Health Issue (2016)\")\n",
    "plt.xlabel(\"Percentages\")\n",
    "plt.ylabel(\"Employees\")"
   ]
  },
  {
   "cell_type": "code",
   "execution_count": 37,
   "metadata": {},
   "outputs": [
    {
     "data": {
      "text/plain": [
       "Text(0, 0.5, 'Employees')"
      ]
     },
     "execution_count": 37,
     "metadata": {},
     "output_type": "execute_result"
    },
    {
     "data": {
      "image/png": "[encoded data removed]",
      "text/plain": [
       "<Figure size 432x288 with 1 Axes>"
      ]
     },
     "metadata": {
      "needs_background": "light"
     },
     "output_type": "display_data"
    }
   ],
   "source": [
    "rating17.value_counts()\n",
    "labels = [\"1-25%\", \"26-50%\", \"51-75%\", \"76-100%\"]\n",
    "counts = [38, 29, 12, 6]\n",
    "plt.bar(labels, counts, color=\"r\", alpha=0.5, align=\"center\")\n",
    "plt.title(\"Percentage of Employees Whose Worktime is Affected by an Mental Health Issue (2017)\")\n",
    "plt.xlabel(\"Percentages\")\n",
    "plt.ylabel(\"Employees\")"
   ]
  },
  {
   "cell_type": "code",
   "execution_count": 38,
   "metadata": {},
   "outputs": [
    {
     "data": {
      "text/plain": [
       "Text(0, 0.5, 'Employees')"
      ]
     },
     "execution_count": 38,
     "metadata": {},
     "output_type": "execute_result"
    },
    {
     "data": {
      "image/png": "[encoded data removed]",
      "text/plain": [
       "<Figure size 432x288 with 1 Axes>"
      ]
     },
     "metadata": {
      "needs_background": "light"
     },
     "output_type": "display_data"
    }
   ],
   "source": [
    "rating18.value_counts()\n",
    "labels = [\"1-25%\", \"26-50%\", \"51-75%\", \"76-100%\"]\n",
    "counts = [18, 13, 9, 1]\n",
    "plt.bar(labels, counts, color=\"r\", alpha=0.5, align=\"center\")\n",
    "plt.title(\"Percentage of Employees Whose Worktime is Affected by an Mental Health Issue (2018)\")\n",
    "plt.xlabel(\"Percentages\")\n",
    "plt.ylabel(\"Employees\")\n"
   ]
  },
  {
   "cell_type": "code",
   "execution_count": 39,
   "metadata": {},
   "outputs": [
    {
     "data": {
      "text/plain": [
       "Text(0, 0.5, 'Employees')"
      ]
     },
     "execution_count": 39,
     "metadata": {},
     "output_type": "execute_result"
    },
    {
     "data": {
      "image/png": "[encoded data removed]",
      "text/plain": [
       "<Figure size 432x288 with 1 Axes>"
      ]
     },
     "metadata": {
      "needs_background": "light"
     },
     "output_type": "display_data"
    }
   ],
   "source": [
    "rating19.value_counts()\n",
    "labels = [\"1-25%\", \"26-50%\", \"51-75%\", \"76-100%\"]\n",
    "counts = [16, 11, 6, 4]\n",
    "plt.bar(labels, counts, color=\"r\", alpha=0.5, align=\"center\")\n",
    "plt.title(\"Percentage of Employees Whose Worktime is Affected by an Mental Health Issue (2019)\")\n",
    "plt.xlabel(\"Percentages\")\n",
    "plt.ylabel(\"Employees\")"
   ]
  },
  {
   "cell_type": "code",
   "execution_count": 41,
   "metadata": {},
   "outputs": [
    {
     "name": "stdout",
     "output_type": "stream",
     "text": [
      "/bin/sh: ju: command not found\r\n"
     ]
    }
   ],
   "source": []
  },
  {
   "cell_type": "code",
   "execution_count": null,
   "metadata": {},
   "outputs": [],
   "source": []
  }
 ],
 "metadata": {
  "kernelspec": {
   "display_name": "Python 3",
   "language": "python",
   "name": "python3"
  },
  "language_info": {
   "codemirror_mode": {
    "name": "ipython",
    "version": 3
   },
   "file_extension": ".py",
   "mimetype": "text/x-python",
   "name": "python",
   "nbconvert_exporter": "python",
   "pygments_lexer": "ipython3",
   "version": "3.6.9"
  }
 },
 "nbformat": 4,
 "nbformat_minor": 2
}
