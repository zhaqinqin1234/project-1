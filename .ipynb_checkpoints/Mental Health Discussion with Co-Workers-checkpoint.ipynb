{
 "cells": [
  {
   "cell_type": "code",
   "execution_count": 12,
   "metadata": {},
   "outputs": [
    {
     "data": {
      "text/html": [
       "<div>\n",
       "<style scoped>\n",
       "    .dataframe tbody tr th:only-of-type {\n",
       "        vertical-align: middle;\n",
       "    }\n",
       "\n",
       "    .dataframe tbody tr th {\n",
       "        vertical-align: top;\n",
       "    }\n",
       "\n",
       "    .dataframe thead th {\n",
       "        text-align: right;\n",
       "    }\n",
       "</style>\n",
       "<table border=\"1\" class=\"dataframe\">\n",
       "  <thead>\n",
       "    <tr style=\"text-align: right;\">\n",
       "      <th></th>\n",
       "      <th>Rating 2014</th>\n",
       "      <th>Rating 2016</th>\n",
       "      <th>Rating 2017</th>\n",
       "      <th>Rating 2018</th>\n",
       "      <th>Rating 2019</th>\n",
       "    </tr>\n",
       "  </thead>\n",
       "  <tbody>\n",
       "    <tr>\n",
       "      <th>0</th>\n",
       "      <td>Some of them</td>\n",
       "      <td>Some of my previous employers</td>\n",
       "      <td>1.0</td>\n",
       "      <td>1.0</td>\n",
       "      <td>1.0</td>\n",
       "    </tr>\n",
       "    <tr>\n",
       "      <th>1</th>\n",
       "      <td>No</td>\n",
       "      <td>No, at none of my previous employers</td>\n",
       "      <td>1.0</td>\n",
       "      <td>0.0</td>\n",
       "      <td>1.0</td>\n",
       "    </tr>\n",
       "    <tr>\n",
       "      <th>2</th>\n",
       "      <td>Yes</td>\n",
       "      <td>Some of my previous employers</td>\n",
       "      <td>1.0</td>\n",
       "      <td>0.0</td>\n",
       "      <td>1.0</td>\n",
       "    </tr>\n",
       "    <tr>\n",
       "      <th>3</th>\n",
       "      <td>Some of them</td>\n",
       "      <td>Some of my previous employers</td>\n",
       "      <td>1.0</td>\n",
       "      <td>0.0</td>\n",
       "      <td>0.0</td>\n",
       "    </tr>\n",
       "    <tr>\n",
       "      <th>5</th>\n",
       "      <td>Yes</td>\n",
       "      <td>No, at none of my previous employers</td>\n",
       "      <td>0.0</td>\n",
       "      <td>0.0</td>\n",
       "      <td>1.0</td>\n",
       "    </tr>\n",
       "    <tr>\n",
       "      <th>...</th>\n",
       "      <td>...</td>\n",
       "      <td>...</td>\n",
       "      <td>...</td>\n",
       "      <td>...</td>\n",
       "      <td>...</td>\n",
       "    </tr>\n",
       "    <tr>\n",
       "      <th>338</th>\n",
       "      <td>No</td>\n",
       "      <td>Some of my previous employers</td>\n",
       "      <td>1.0</td>\n",
       "      <td>0.0</td>\n",
       "      <td>1.0</td>\n",
       "    </tr>\n",
       "    <tr>\n",
       "      <th>339</th>\n",
       "      <td>Some of them</td>\n",
       "      <td>Some of my previous employers</td>\n",
       "      <td>1.0</td>\n",
       "      <td>0.0</td>\n",
       "      <td>0.0</td>\n",
       "    </tr>\n",
       "    <tr>\n",
       "      <th>344</th>\n",
       "      <td>No</td>\n",
       "      <td>No, at none of my previous employers</td>\n",
       "      <td>1.0</td>\n",
       "      <td>1.0</td>\n",
       "      <td>0.0</td>\n",
       "    </tr>\n",
       "    <tr>\n",
       "      <th>345</th>\n",
       "      <td>Some of them</td>\n",
       "      <td>No, at none of my previous employers</td>\n",
       "      <td>0.0</td>\n",
       "      <td>1.0</td>\n",
       "      <td>1.0</td>\n",
       "    </tr>\n",
       "    <tr>\n",
       "      <th>347</th>\n",
       "      <td>No</td>\n",
       "      <td>Some of my previous employers</td>\n",
       "      <td>1.0</td>\n",
       "      <td>0.0</td>\n",
       "      <td>0.0</td>\n",
       "    </tr>\n",
       "  </tbody>\n",
       "</table>\n",
       "<p>187 rows × 5 columns</p>\n",
       "</div>"
      ],
      "text/plain": [
       "      Rating 2014                           Rating 2016  Rating 2017  \\\n",
       "0    Some of them         Some of my previous employers          1.0   \n",
       "1              No  No, at none of my previous employers          1.0   \n",
       "2             Yes         Some of my previous employers          1.0   \n",
       "3    Some of them         Some of my previous employers          1.0   \n",
       "5             Yes  No, at none of my previous employers          0.0   \n",
       "..            ...                                   ...          ...   \n",
       "338            No         Some of my previous employers          1.0   \n",
       "339  Some of them         Some of my previous employers          1.0   \n",
       "344            No  No, at none of my previous employers          1.0   \n",
       "345  Some of them  No, at none of my previous employers          0.0   \n",
       "347            No         Some of my previous employers          1.0   \n",
       "\n",
       "     Rating 2018  Rating 2019  \n",
       "0            1.0          1.0  \n",
       "1            0.0          1.0  \n",
       "2            0.0          1.0  \n",
       "3            0.0          0.0  \n",
       "5            0.0          1.0  \n",
       "..           ...          ...  \n",
       "338          0.0          1.0  \n",
       "339          0.0          0.0  \n",
       "344          1.0          0.0  \n",
       "345          1.0          1.0  \n",
       "347          0.0          0.0  \n",
       "\n",
       "[187 rows x 5 columns]"
      ]
     },
     "execution_count": 12,
     "metadata": {},
     "output_type": "execute_result"
    }
   ],
   "source": [
    "import pandas as pd\n",
    "import matplotlib.pyplot as plt\n",
    "import numpy as np\n",
    "\n",
    "file14 = \"Resources/survey_2014.csv\"\n",
    "df14 = pd.read_csv(file14)\n",
    "file16 = \"Resources/survey_2016.csv\"\n",
    "df16 = pd.read_csv(file16)\n",
    "file17 = \"Resources/survey_2017.csv\"\n",
    "df17 = pd.read_csv(file17)\n",
    "file18 = \"Resources/survey_2018.csv\"\n",
    "df18 = pd.read_csv(file18)\n",
    "file19 = \"Resources/OSMI 2019 Mental Health in Tech Survey Results - OSMI Mental Health in Tech Survey 2019.csv\"\n",
    "df19 = pd.read_csv(file19)\n",
    "rating14 = df14[\"Would you be willing to discuss a mental health issue with your coworkers?\"]\n",
    "rating16 = df16[\"Would you have been willing to discuss a mental health issue with your previous co-workers?\"]\n",
    "rating17 = df17[\"Have you ever discussed your mental health with coworkers?\"].astype(float)\n",
    "rating18 = df18[\"Have you ever discussed your mental health with coworkers?\"].astype(float)\n",
    "rating19 = df19[\"Have you ever discussed your mental health with coworkers?\"].astype(float)\n",
    "rating_df = pd.DataFrame({\n",
    "    \"Rating 2014\" : rating14,\n",
    "    \"Rating 2016\" : rating16,\n",
    "    \"Rating 2017\" : rating17,\n",
    "    \"Rating 2018\" : rating18,\n",
    "    \"Rating 2019\" : rating19\n",
    "})\n",
    "rating_df.dropna()"
   ]
  },
  {
   "cell_type": "code",
   "execution_count": 13,
   "metadata": {},
   "outputs": [
    {
     "data": {
      "text/html": [
       "<div>\n",
       "<style scoped>\n",
       "    .dataframe tbody tr th:only-of-type {\n",
       "        vertical-align: middle;\n",
       "    }\n",
       "\n",
       "    .dataframe tbody tr th {\n",
       "        vertical-align: top;\n",
       "    }\n",
       "\n",
       "    .dataframe thead th {\n",
       "        text-align: right;\n",
       "    }\n",
       "</style>\n",
       "<table border=\"1\" class=\"dataframe\">\n",
       "  <thead>\n",
       "    <tr style=\"text-align: right;\">\n",
       "      <th></th>\n",
       "      <th>Rating 2014</th>\n",
       "      <th>Rating 2016</th>\n",
       "      <th>Rating 2017</th>\n",
       "      <th>Rating 2018</th>\n",
       "      <th>Rating 2019</th>\n",
       "    </tr>\n",
       "  </thead>\n",
       "  <tbody>\n",
       "    <tr>\n",
       "      <th>0</th>\n",
       "      <td>0.0</td>\n",
       "      <td>0.0</td>\n",
       "      <td>1.0</td>\n",
       "      <td>1.0</td>\n",
       "      <td>1.0</td>\n",
       "    </tr>\n",
       "    <tr>\n",
       "      <th>1</th>\n",
       "      <td>0.0</td>\n",
       "      <td>0.0</td>\n",
       "      <td>1.0</td>\n",
       "      <td>0.0</td>\n",
       "      <td>1.0</td>\n",
       "    </tr>\n",
       "    <tr>\n",
       "      <th>2</th>\n",
       "      <td>1.0</td>\n",
       "      <td>0.0</td>\n",
       "      <td>1.0</td>\n",
       "      <td>0.0</td>\n",
       "      <td>1.0</td>\n",
       "    </tr>\n",
       "    <tr>\n",
       "      <th>3</th>\n",
       "      <td>0.0</td>\n",
       "      <td>0.0</td>\n",
       "      <td>1.0</td>\n",
       "      <td>0.0</td>\n",
       "      <td>0.0</td>\n",
       "    </tr>\n",
       "    <tr>\n",
       "      <th>5</th>\n",
       "      <td>1.0</td>\n",
       "      <td>0.0</td>\n",
       "      <td>0.0</td>\n",
       "      <td>0.0</td>\n",
       "      <td>1.0</td>\n",
       "    </tr>\n",
       "    <tr>\n",
       "      <th>...</th>\n",
       "      <td>...</td>\n",
       "      <td>...</td>\n",
       "      <td>...</td>\n",
       "      <td>...</td>\n",
       "      <td>...</td>\n",
       "    </tr>\n",
       "    <tr>\n",
       "      <th>338</th>\n",
       "      <td>0.0</td>\n",
       "      <td>0.0</td>\n",
       "      <td>1.0</td>\n",
       "      <td>0.0</td>\n",
       "      <td>1.0</td>\n",
       "    </tr>\n",
       "    <tr>\n",
       "      <th>339</th>\n",
       "      <td>0.0</td>\n",
       "      <td>0.0</td>\n",
       "      <td>1.0</td>\n",
       "      <td>0.0</td>\n",
       "      <td>0.0</td>\n",
       "    </tr>\n",
       "    <tr>\n",
       "      <th>344</th>\n",
       "      <td>0.0</td>\n",
       "      <td>0.0</td>\n",
       "      <td>1.0</td>\n",
       "      <td>1.0</td>\n",
       "      <td>0.0</td>\n",
       "    </tr>\n",
       "    <tr>\n",
       "      <th>345</th>\n",
       "      <td>0.0</td>\n",
       "      <td>0.0</td>\n",
       "      <td>0.0</td>\n",
       "      <td>1.0</td>\n",
       "      <td>1.0</td>\n",
       "    </tr>\n",
       "    <tr>\n",
       "      <th>347</th>\n",
       "      <td>0.0</td>\n",
       "      <td>0.0</td>\n",
       "      <td>1.0</td>\n",
       "      <td>0.0</td>\n",
       "      <td>0.0</td>\n",
       "    </tr>\n",
       "  </tbody>\n",
       "</table>\n",
       "<p>187 rows × 5 columns</p>\n",
       "</div>"
      ],
      "text/plain": [
       "     Rating 2014  Rating 2016  Rating 2017  Rating 2018  Rating 2019\n",
       "0            0.0          0.0          1.0          1.0          1.0\n",
       "1            0.0          0.0          1.0          0.0          1.0\n",
       "2            1.0          0.0          1.0          0.0          1.0\n",
       "3            0.0          0.0          1.0          0.0          0.0\n",
       "5            1.0          0.0          0.0          0.0          1.0\n",
       "..           ...          ...          ...          ...          ...\n",
       "338          0.0          0.0          1.0          0.0          1.0\n",
       "339          0.0          0.0          1.0          0.0          0.0\n",
       "344          0.0          0.0          1.0          1.0          0.0\n",
       "345          0.0          0.0          0.0          1.0          1.0\n",
       "347          0.0          0.0          1.0          0.0          0.0\n",
       "\n",
       "[187 rows x 5 columns]"
      ]
     },
     "execution_count": 13,
     "metadata": {},
     "output_type": "execute_result"
    }
   ],
   "source": [
    "rating_df\n",
    "rating_df[\"Rating 2016\"] = rating_df[\"Rating 2016\"].replace({\n",
    "    \"Some of my previous employers\" : 0,\n",
    "    \"No, at none of my previous employers\" : 0,\n",
    "    \"Yes, at all of my previous employers\" : 1\n",
    "})\n",
    "rating_df\n",
    "rating_df[\"Rating 2014\"] = rating_df[\"Rating 2014\"].replace({\n",
    "    \"Some of them\": 0,\n",
    "    \"No\": 0,\n",
    "    \"Yes\": 1\n",
    "})\n",
    "rating_df.dropna()"
   ]
  },
  {
   "cell_type": "code",
   "execution_count": 14,
   "metadata": {},
   "outputs": [
    {
     "data": {
      "text/plain": [
       "225.0"
      ]
     },
     "execution_count": 14,
     "metadata": {},
     "output_type": "execute_result"
    }
   ],
   "source": [
    "rating_df[\"Rating 2014\"].astype(float)\n",
    "rating_df[\"Rating 2016\"].astype(float)\n",
    "sum_2014 = rating_df[\"Rating 2014\"].sum()\n",
    "sum_2014\n"
   ]
  },
  {
   "cell_type": "code",
   "execution_count": 15,
   "metadata": {},
   "outputs": [
    {
     "data": {
      "text/plain": [
       "0.17857142857142858"
      ]
     },
     "execution_count": 15,
     "metadata": {},
     "output_type": "execute_result"
    }
   ],
   "source": [
    "count_2014 = rating_df[\"Rating 2014\"].count()\n",
    "Mean_rating_2014 = (sum_2014)/(count_2014)\n",
    "Mean_rating_2014"
   ]
  },
  {
   "cell_type": "code",
   "execution_count": 16,
   "metadata": {},
   "outputs": [
    {
     "data": {
      "text/plain": [
       "0.07436708860759493"
      ]
     },
     "execution_count": 16,
     "metadata": {},
     "output_type": "execute_result"
    }
   ],
   "source": [
    "sum_2016 = rating_df[\"Rating 2016\"].sum()\n",
    "count_2016 = rating_df[\"Rating 2016\"].count()\n",
    "Mean_rating_2016 = (sum_2016)/(count_2016)\n",
    "Mean_rating_2016"
   ]
  },
  {
   "cell_type": "code",
   "execution_count": 17,
   "metadata": {},
   "outputs": [
    {
     "data": {
      "text/plain": [
       "0.4510108864696734"
      ]
     },
     "execution_count": 17,
     "metadata": {},
     "output_type": "execute_result"
    }
   ],
   "source": [
    "sum_2017= rating_df[\"Rating 2017\"].sum()\n",
    "count_2017 = rating_df[\"Rating 2017\"].count()\n",
    "Mean_rating_2017 = (sum_2017)/(count_2017)\n",
    "Mean_rating_2017"
   ]
  },
  {
   "cell_type": "code",
   "execution_count": 18,
   "metadata": {},
   "outputs": [
    {
     "data": {
      "text/plain": [
       "0.4083333333333333"
      ]
     },
     "execution_count": 18,
     "metadata": {},
     "output_type": "execute_result"
    }
   ],
   "source": [
    "sum_2018 = rating_df[\"Rating 2018\"].sum()\n",
    "count_2018 = rating_df[\"Rating 2018\"].count()\n",
    "Mean_rating_2018 = (sum_2018)/(count_2018)\n",
    "Mean_rating_2018"
   ]
  },
  {
   "cell_type": "code",
   "execution_count": 19,
   "metadata": {},
   "outputs": [
    {
     "data": {
      "text/plain": [
       "0.47840531561461797"
      ]
     },
     "execution_count": 19,
     "metadata": {},
     "output_type": "execute_result"
    }
   ],
   "source": [
    "sum_2019 = rating_df [\"Rating 2019\"].sum()\n",
    "count_2019 = rating_df [\"Rating 2019\"].count()\n",
    "Mean_rating_2019 = (sum_2019)/(count_2019)\n",
    "Mean_rating_2019"
   ]
  },
  {
   "cell_type": "code",
   "execution_count": 31,
   "metadata": {},
   "outputs": [
    {
     "data": {
      "image/png": "[encoded data removed]",
      "text/plain": [
       "<Figure size 432x288 with 1 Axes>"
      ]
     },
     "metadata": {
      "needs_background": "light"
     },
     "output_type": "display_data"
    }
   ],
   "source": [
    "Average_Ratings = pd.DataFrame(ticks)\n",
    "ticks = [Mean_rating_2014, Mean_rating_2016, Mean_rating_2017, Mean_rating_2018, Mean_rating_2019]\n",
    "Average_Ratings = pd.DataFrame(ticks)\n",
    "Years = [2014, 2016, 2017, 2018, 2019]\n",
    "Average_Mental_Health = plt.plot(Years, ticks, marker='o', color='blue', label='Years')\n",
    "plt.xlabel(\"Years\")\n",
    "plt.ylabel(\"Workers Who Discussed Mental Health With Co-Workers (%)\")\n",
    "plt.title(\"Mental Health Discussion With Co-Workers\")\n",
    "plt.show()\n"
   ]
  },
  {
   "cell_type": "code",
   "execution_count": 21,
   "metadata": {},
   "outputs": [
    {
     "data": {
      "text/plain": [
       "<Figure size 432x288 with 0 Axes>"
      ]
     },
     "metadata": {},
     "output_type": "display_data"
    }
   ],
   "source": [
    "plt.savefig(\"Average_Mental_Health_Discussion.png\")"
   ]
  },
  {
   "cell_type": "code",
   "execution_count": null,
   "metadata": {},
   "outputs": [],
   "source": [
    "data = {'Years': [2014, 2016, 2017, 2018, 2019], \n",
    "        '% Yes': [0.178571, 0.074367, 0.451011, 0.408333, 0.478405]} \n",
    "chart_df = pd.DataFrame(data) \n",
    "chart_df"
   ]
  },
  {
   "cell_type": "code",
   "execution_count": null,
   "metadata": {},
   "outputs": [],
   "source": []
  }
 ],
 "metadata": {
  "kernelspec": {
   "display_name": "Python 3",
   "language": "python",
   "name": "python3"
  },
  "language_info": {
   "codemirror_mode": {
    "name": "ipython",
    "version": 3
   },
   "file_extension": ".py",
   "mimetype": "text/x-python",
   "name": "python",
   "nbconvert_exporter": "python",
   "pygments_lexer": "ipython3",
   "version": "3.6.9"
  }
 },
 "nbformat": 4,
 "nbformat_minor": 2
}
